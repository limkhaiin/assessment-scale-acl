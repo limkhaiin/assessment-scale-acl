{
  "nbformat": 4,
  "nbformat_minor": 0,
  "metadata": {
    "colab": {
      "provenance": []
    },
    "kernelspec": {
      "name": "python3",
      "display_name": "Python 3"
    },
    "language_info": {
      "name": "python"
    }
  },
  "cells": [
    {
      "cell_type": "code",
      "execution_count": null,
      "metadata": {
        "id": "_Qr-Hdh-QmBa"
      },
      "outputs": [],
      "source": [
        "import pickle\n",
        "with open('/content/drive/MyDrive/Colab Notebooks/MDDdataset/symptom_sum_top16/train.pkl', 'rb') as f:\n",
        "      raw_train_data = pickle.load(f)\n",
        "with open('/content/drive/MyDrive/Colab Notebooks/MDDdataset/symptom_sum_top16/test.pkl', 'rb') as f:\n",
        "      raw_test_data = pickle.load(f)\n",
        "with open('/content/drive/MyDrive/Colab Notebooks/MDDdataset/symptom_sum_top16/val.pkl', 'rb') as f:\n",
        "      raw_val_data = pickle.load(f)"
      ]
    },
    {
      "cell_type": "code",
      "source": [
        "import pandas as pd\n",
        "train_data=pd.DataFrame(raw_train_data)\n",
        "test_data=pd.DataFrame(raw_test_data)\n",
        "val_data=pd.DataFrame(raw_val_data)"
      ],
      "metadata": {
        "id": "WbFPaXFsQ_f5"
      },
      "execution_count": null,
      "outputs": []
    },
    {
      "cell_type": "code",
      "source": [
        "df_all = pd.concat([train_data, val_data], axis=0)\n",
        "df_all = pd.concat([df_all, test_data], axis=0)"
      ],
      "metadata": {
        "id": "CuCuz0kORAkl"
      },
      "execution_count": null,
      "outputs": []
    },
    {
      "cell_type": "code",
      "source": [
        "import pandas as pd\n",
        "import numpy as np\n",
        "from sklearn.metrics import f1_score, confusion_matrix\n",
        "from sklearn.feature_extraction.text import TfidfVectorizer\n",
        "from sklearn.linear_model import LogisticRegression\n",
        "from sklearn.model_selection import train_test_split\n",
        "\n",
        "# Enriched OCD keywords based on the Symptom Checklist-90 OCD Subscale\n",
        "ocd_keywords = {\n",
        "    \"check and double-check\": [\"check and double-check\", \"repeatedly checking\", \"constantly verifying\", \"ensure everything is correct\"],\n",
        "    \"do things very slowly\": [\"do things very slowly\", \"meticulously slow\", \"overly cautious\", \"extreme precision\"],\n",
        "    \"mind going blank\": [\"mind going blank\", \"can't think clearly\", \"mental fog\", \"blank out\"],\n",
        "    \"trouble remembering\": [\"trouble remembering\", \"forgetful\", \"can't recall\", \"memory issues\"],\n",
        "    \"difficulty making decisions\": [\"difficulty making decisions\", \"indecisive\", \"can't decide\", \"hesitation\"],\n",
        "    \"trouble concentrating\": [\"trouble concentrating\", \"easily distracted\", \"lack of focus\", \"can't concentrate\"],\n",
        "    \"worried about sloppiness\": [\"worried about sloppiness\", \"fear of making mistakes\", \"perfectionist tendencies\", \"concerned about errors\"],\n",
        "    \"feeling blocked\": [\"feeling blocked\", \"unable to progress\", \"stuck\", \"impeded\"],\n",
        "    \"repeat the same actions\": [\"repeat the same actions\", \"compulsive behavior\", \"repetitive actions\", \"counting, washing\"],\n",
        "    \"unwanted thoughts\": [\"unwanted thoughts\", \"intrusive thoughts\", \"obsessive thoughts\", \"can't get it out of my head\"]\n",
        "}\n",
        "\n",
        "# Function to preprocess and score posts with a reduced TF-IDF\n",
        "def preprocess_and_score(data):\n",
        "    vectorizer = TfidfVectorizer(lowercase=True, stop_words='english', ngram_range=(1,2), max_features=5000)  # Limit features to control memory\n",
        "    corpus = []\n",
        "    for index, row in data.iterrows():\n",
        "        if isinstance(row['selected_posts'], str):\n",
        "            posts = eval(row['selected_posts'])\n",
        "        else:\n",
        "            posts = row['selected_posts']\n",
        "        corpus.append(' '.join(posts))\n",
        "    X = vectorizer.fit_transform(corpus)\n",
        "    y = data['diseases'].apply(lambda x: 1 if 'ocd' in eval(str(x)) else 0)\n",
        "    return X, y\n",
        "\n",
        "X, y = preprocess_and_score(train_data)\n",
        "\n",
        "# Simplified bootstrapping\n",
        "n_bootstraps = 100  # Reduced number of bootstraps\n",
        "bootstrap_f1 = []\n",
        "bootstrap_sensitivities = []\n",
        "bootstrap_specificities = []\n",
        "\n",
        "for _ in range(n_bootstraps):\n",
        "    sample_indices = np.random.choice(range(len(y)), size=len(y), replace=True)\n",
        "    X_sample = X[sample_indices]\n",
        "    y_sample = y.iloc[sample_indices]\n",
        "\n",
        "    X_train, X_test, y_train, y_test = train_test_split(X_sample, y_sample, test_size=0.3, random_state=42)\n",
        "    model = LogisticRegression()\n",
        "    model.fit(X_train, y_train)\n",
        "    y_pred = model.predict(X_test)\n",
        "\n",
        "    f1 = f1_score(y_test, y_pred)\n",
        "    cm = confusion_matrix(y_test, y_pred)\n",
        "    tn, fp, fn, tp = cm.ravel()\n",
        "    sensitivity = tp / (tp + fn) if (tp + fn) != 0 else 0\n",
        "    specificity = tn / (tn + fp) if (tn + fp) != 0 else 0\n",
        "\n",
        "    bootstrap_f1.append(f1)\n",
        "    bootstrap_sensitivities.append(sensitivity)\n",
        "    bootstrap_specificities.append(specificity)\n",
        "\n",
        "# Calculate means and standard deviations\n",
        "mean_f1 = np.mean(bootstrap_f1)\n",
        "std_dev_f1 = np.std(bootstrap_f1)\n",
        "mean_sensitivity = np.mean(bootstrap_sensitivities)\n",
        "std_dev_sensitivity = np.std(bootstrap_sensitivities)\n",
        "mean_specificity = np.mean(bootstrap_specificities)\n",
        "std_dev_specificity = np.std(bootstrap_specificities)\n",
        "\n",
        "# Print results\n",
        "print(f\"F1 Score: {mean_f1:.3f} ± {std_dev_f1:.3f}\")\n",
        "print(f\"Sensitivity: {mean_sensitivity:.3f} ± {std_dev_sensitivity:.3f}\")\n",
        "print(f\"Specificity: {mean_specificity:.3f} ± {std_dev_specificity:.3f}\")\n",
        "\n"
      ],
      "metadata": {
        "colab": {
          "base_uri": "https://localhost:8080/"
        },
        "id": "clJE3HDWVl4i",
        "outputId": "c8bb46b3-91f8-41ef-f3f5-c99e8f464cd2"
      },
      "execution_count": null,
      "outputs": [
        {
          "output_type": "stream",
          "name": "stdout",
          "text": [
            "F1 Score: 0.171 ± 0.039\n",
            "Sensitivity: 0.095 ± 0.024\n",
            "Specificity: 1.000 ± 0.000\n"
          ]
        }
      ]
    },
    {
      "cell_type": "code",
      "source": [
        "import pandas as pd\n",
        "import numpy as np\n",
        "from sklearn.metrics import f1_score, make_scorer, confusion_matrix\n",
        "from sklearn.feature_extraction.text import TfidfVectorizer\n",
        "from sklearn.linear_model import LogisticRegression\n",
        "from sklearn.model_selection import KFold, cross_val_score, cross_validate\n",
        "\n",
        "# Enriched OCD keywords based on the Symptom Checklist-90 OCD Subscale\n",
        "ocd_keywords = {\n",
        "    \"check and double-check\": [\"check and double-check\", \"repeatedly checking\", \"constantly verifying\", \"ensure everything is correct\"],\n",
        "    \"do things very slowly\": [\"do things very slowly\", \"meticulously slow\", \"overly cautious\", \"extreme precision\"],\n",
        "    \"mind going blank\": [\"mind going blank\", \"can't think clearly\", \"mental fog\", \"blank out\"],\n",
        "    \"trouble remembering\": [\"trouble remembering\", \"forgetful\", \"can't recall\", \"memory issues\"],\n",
        "    \"difficulty making decisions\": [\"difficulty making decisions\", \"indecisive\", \"can't decide\", \"hesitation\"],\n",
        "    \"trouble concentrating\": [\"trouble concentrating\", \"easily distracted\", \"lack of focus\", \"can't concentrate\"],\n",
        "    \"worried about sloppiness\": [\"worried about sloppiness\", \"fear of making mistakes\", \"perfectionist tendencies\", \"concerned about errors\"],\n",
        "    \"feeling blocked\": [\"feeling blocked\", \"unable to progress\", \"stuck\", \"impeded\"],\n",
        "    \"repeat the same actions\": [\"repeat the same actions\", \"compulsive behavior\", \"repetitive actions\", \"counting, washing\"],\n",
        "    \"unwanted thoughts\": [\"unwanted thoughts\", \"intrusive thoughts\", \"obsessive thoughts\", \"can't get it out of my head\"]\n",
        "}\n",
        "\n",
        "# Function to preprocess and score posts with a reduced TF-IDF\n",
        "def preprocess_and_score(data):\n",
        "    vectorizer = TfidfVectorizer(lowercase=True, stop_words='english', ngram_range=(1,2), max_features=5000)\n",
        "    corpus = []\n",
        "    for index, row in data.iterrows():\n",
        "        if isinstance(row['selected_posts'], str):\n",
        "            posts = eval(row['selected_posts'])\n",
        "        else:\n",
        "            posts = row['selected_posts']\n",
        "        corpus.append(' '.join(posts))\n",
        "    X = vectorizer.fit_transform(corpus)\n",
        "    y = data['diseases'].apply(lambda x: 1 if 'ocd' in eval(str(x)) else 0)\n",
        "    return X, y\n",
        "\n",
        "X, y = preprocess_and_score(df_all)\n",
        "\n",
        "# Function to calculate sensitivity and specificity\n",
        "def sensitivity_score(y_true, y_pred):\n",
        "    cm = confusion_matrix(y_true, y_pred)\n",
        "    tn, fp, fn, tp = cm.ravel()\n",
        "    return tp / (tp + fn) if (tp + fn) != 0 else 0\n",
        "\n",
        "def specificity_score(y_true, y_pred):\n",
        "    cm = confusion_matrix(y_true, y_pred)\n",
        "    tn, fp, fn, tp = cm.ravel()\n",
        "    return tn / (tn + fp) if (tn + fp) != 0 else 0\n",
        "\n",
        "# Prepare the scorer functions\n",
        "scoring = {'f1': 'f1', 'sensitivity': make_scorer(sensitivity_score), 'specificity': make_scorer(specificity_score)}\n",
        "\n",
        "# Perform 5-fold cross-validation\n",
        "kf = KFold(n_splits=5, shuffle=True, random_state=42)\n",
        "model = LogisticRegression()\n",
        "cv_results = cross_validate(model, X, y, cv=kf, scoring=scoring)\n",
        "\n",
        "# Calculate mean and standard deviation for each metric\n",
        "mean_f1 = np.mean(cv_results['test_f1'])\n",
        "std_dev_f1 = np.std(cv_results['test_f1'])\n",
        "mean_sensitivity = np.mean(cv_results['test_sensitivity'])\n",
        "std_dev_sensitivity = np.std(cv_results['test_sensitivity'])\n",
        "mean_specificity = np.mean(cv_results['test_specificity'])\n",
        "std_dev_specificity = np.std(cv_results['test_specificity'])\n",
        "\n",
        "# Print results\n",
        "print(f\"F1 Score: {mean_f1:.3f} ± {std_dev_f1:.3f}\")\n",
        "print(f\"Sensitivity: {mean_sensitivity:.3f} ± {std_dev_sensitivity:.3f}\")\n",
        "print(f\"Specificity: {mean_specificity:.3f} ± {std_dev_specificity:.3f}\")\n"
      ],
      "metadata": {
        "colab": {
          "base_uri": "https://localhost:8080/"
        },
        "id": "FacZJoElj_1z",
        "outputId": "ec973449-5f22-4652-97f5-66ce92864228"
      },
      "execution_count": null,
      "outputs": [
        {
          "output_type": "stream",
          "name": "stdout",
          "text": [
            "F1 Score: 0.163 ± 0.015\n",
            "Sensitivity: 0.090 ± 0.010\n",
            "Specificity: 1.000 ± 0.000\n"
          ]
        }
      ]
    },
    {
      "cell_type": "code",
      "source": [],
      "metadata": {
        "id": "DMRkqXv9ojyY"
      },
      "execution_count": null,
      "outputs": []
    }
  ]
}